{
  "nbformat": 4,
  "nbformat_minor": 0,
  "metadata": {
    "colab": {
      "provenance": [],
      "include_colab_link": true
    },
    "kernelspec": {
      "name": "python3",
      "display_name": "Python 3"
    },
    "language_info": {
      "name": "python"
    },
    "accelerator": "GPU",
    "gpuClass": "standard"
  },
  "cells": [
    {
      "cell_type": "markdown",
      "metadata": {
        "id": "view-in-github",
        "colab_type": "text"
      },
      "source": [
        "<a href=\"https://colab.research.google.com/github/0tt00t/ECS170-Project/blob/main/Fashion.ipynb\" target=\"_parent\"><img src=\"https://colab.research.google.com/assets/colab-badge.svg\" alt=\"Open In Colab\"/></a>"
      ]
    },
    {
      "cell_type": "markdown",
      "source": [
        "# Writeup\n",
        "\n",
        "For the writeup, please include the following information:\n",
        "\n",
        "\n",
        "*   Convolutional neural network: \n",
        "-  - An input layer, hidden layers, and an output layer make up a convolutional neural network. Any middle layers in a feed-forward neural network are referred to as hidden layers since the activation function and final convolution hide their inputs and outputs. The convolution procedure develops a feature map as the convolution kernel moves across the input matrix for the layer.\n",
        "\n",
        "*   Discuss how you tuned your network and why you think it's performance is reasonable for this task\n",
        "\n",
        "\n",
        "- - Initially, I tried to use three fully connected layer, but the percising rate got stucked on about 85%. Then, I tried to add another layer and adjust the input layer match the matrix(which is the 9216). I choose two convolutional layer with kernel size 2. This is because comparing to the RGB pictures, the black and white pictures need more percise examination. What's more, for the learning rate, we found out that the learning rate 0.015 will be most productive. Finally, we set epouch to 20. Even though sometimes the model shows overstudy, but most of the time will get over 90% accuricy. Combinating all the variables we tuned, we got our final model.\n",
        "\n",
        "*   Discuss wether or not you feel that this classifier is appropriate for the given task (check PA3 description)\n",
        "\n",
        "- - When we train our model, the accuracy of our model is 80% at our first epoch. Since we set the number of epoch to 20, the accuracy of our model keeps rising as we get to 20 epochs. In the end, the accuracy of our model can go up to 9029/10000 which is 90%. In this case, if we implement our model to the shipping facility. There is only one wrong selection in 10 clothes. As we get the wrong result, we can learn from the wrong result and keeps upgrade the accuracy of our model."
      ],
      "metadata": {
        "id": "qxOhrr4P1jWt"
      }
    },
    {
      "cell_type": "markdown",
      "source": [
        "# PyTorch"
      ],
      "metadata": {
        "id": "wJImnLRvS10E"
      }
    },
    {
      "cell_type": "markdown",
      "source": [
        "## 0 Imports"
      ],
      "metadata": {
        "id": "9Oj-THYrHY-F"
      }
    },
    {
      "cell_type": "code",
      "execution_count": null,
      "metadata": {
        "id": "gJF_htAsHP18"
      },
      "outputs": [],
      "source": [
        "import torch\n",
        "import torchvision\n",
        "import torchvision.transforms as transforms\n",
        "import torch.nn as nn\n",
        "import torch.nn.functional as F\n",
        "import torch.optim as optim\n",
        "import matplotlib.pyplot as plt\n",
        "\n",
        "device = torch.device(\"cuda:0\" if torch.cuda.is_available() else \"cpu\")"
      ]
    },
    {
      "cell_type": "markdown",
      "source": [
        "## 1. Set Hyperparameters"
      ],
      "metadata": {
        "id": "o7QPmU2THeE5"
      }
    },
    {
      "cell_type": "code",
      "source": [
        "# You can modify these values\n",
        "\n",
        "n_epochs = 20\n",
        "batch_size_train = 64\n",
        "batch_size_test = 1000\n",
        "learning_rate = 0.015\n",
        "momentum = 0.5\n",
        "log_interval = 100"
      ],
      "metadata": {
        "id": "Q2jvrRp6Hdhe"
      },
      "execution_count": null,
      "outputs": []
    },
    {
      "cell_type": "markdown",
      "source": [
        "## 2. Load Data"
      ],
      "metadata": {
        "id": "5BF4XieJH6r8"
      }
    },
    {
      "cell_type": "code",
      "source": [
        "train_set = torchvision.datasets.FashionMNIST(\n",
        "  root = './data/FashionMNIST',\n",
        "  train = True,\n",
        "  download = True,\n",
        "  transform = transforms.Compose([\n",
        "      transforms.ToTensor()                                 \n",
        "  ]))\n",
        "\n",
        "train_loader = torch.utils.data.DataLoader(train_set,\n",
        "                                     batch_size = batch_size_train,\n",
        "                                     shuffle=True)\n",
        "\n",
        "train_set = torchvision.datasets.FashionMNIST(\n",
        "  root = './data/FashionMNIST',\n",
        "  train = False,\n",
        "  download = True,\n",
        "  transform = transforms.Compose([\n",
        "      transforms.ToTensor()                                 \n",
        "  ]))\n",
        "\n",
        "test_loader = torch.utils.data.DataLoader(train_set,\n",
        "                                     batch_size = batch_size_train,\n",
        "                                     shuffle=True)"
      ],
      "metadata": {
        "id": "9ksSnoOcH_2m"
      },
      "execution_count": null,
      "outputs": []
    },
    {
      "cell_type": "code",
      "source": [
        "examples = enumerate(test_loader)\n",
        "batch_idx, (example_data, example_targets) = next(examples)\n",
        "\n",
        "fig = plt.figure()\n",
        "for i in range(6):\n",
        "  plt.subplot(2,3,i+1)\n",
        "  plt.tight_layout()\n",
        "  plt.imshow(example_data[i][0], cmap='gray', interpolation='none')\n",
        "  plt.title(\"Ground Truth: {}\".format(example_targets[i]))\n",
        "  plt.xticks([])\n",
        "  plt.yticks([])"
      ],
      "metadata": {
        "colab": {
          "base_uri": "https://localhost:8080/",
          "height": 284
        },
        "id": "leynP5FNILE6",
        "outputId": "85508af6-c6f1-4a8e-ba63-539927702676"
      },
      "execution_count": null,
      "outputs": [
        {
          "output_type": "display_data",
          "data": {
            "text/plain": [
              "<Figure size 432x288 with 6 Axes>"
            ],
            "image/png": "[encoded data removed]"
          },
          "metadata": {}
        }
      ]
    },
    {
      "cell_type": "code",
      "source": [
        "INPUT_CHANNELS = example_data.shape[1]\n",
        "\n",
        "OUTPUT_CLASSES = 10\n",
        "example_data.shape"
      ],
      "metadata": {
        "colab": {
          "base_uri": "https://localhost:8080/"
        },
        "id": "4SVbsV3JJOyN",
        "outputId": "98d1fe4f-3b53-4c15-ab82-c71890a894b7"
      },
      "execution_count": null,
      "outputs": [
        {
          "output_type": "execute_result",
          "data": {
            "text/plain": [
              "torch.Size([64, 1, 28, 28])"
            ]
          },
          "metadata": {},
          "execution_count": 211
        }
      ]
    },
    {
      "cell_type": "markdown",
      "source": [
        "## 3. Define Model"
      ],
      "metadata": {
        "id": "jd448qcTI08A"
      }
    },
    {
      "cell_type": "code",
      "source": [
        "class Net(nn.Module):\n",
        "    def __init__(self):\n",
        "        super(Net, self).__init__()\n",
        "        # Input channels, output channels, kernel size, stride\n",
        "        self.conv1 = nn.Conv2d(INPUT_CHANNELS, 128, 2, 1)\n",
        "        self.conv2 = nn.Conv2d(128, 256, 2, 1)\n",
        "        self.maxPooling = nn.MaxPool2d(2)\n",
        "        self.fc1 = nn.Linear(9216, 512)\n",
        "        self.fc2 = nn.Linear(512, 256)\n",
        "        self.fc3 = nn.Linear(256, 64)\n",
        "        self.fc4 = nn.Linear(64, OUTPUT_CLASSES)\n",
        "\n",
        "    def forward(self, x):\n",
        "        x = self.conv1(x)\n",
        "        x = self.maxPooling(x)\n",
        "        x = self.conv2(x)\n",
        "        x = self.maxPooling(x)\n",
        "        linearize = nn.Flatten()\n",
        "        x = linearize(x)\n",
        "        x = self.fc1(x)\n",
        "        x = self.fc2(x)\n",
        "        x = self.fc3(x)\n",
        "        x = self.fc4(x)\n",
        "        output = F.log_softmax(x, dim=1)\n",
        "        return output"
      ],
      "metadata": {
        "id": "FPJ3fN3IIubV"
      },
      "execution_count": null,
      "outputs": []
    },
    {
      "cell_type": "code",
      "source": [
        "net = Net().to(device)\n",
        "net"
      ],
      "metadata": {
        "id": "cMoEjiakOJ0p",
        "colab": {
          "base_uri": "https://localhost:8080/"
        },
        "outputId": "0891a948-bc61-4df2-9a6f-7657f8c5252d"
      },
      "execution_count": null,
      "outputs": [
        {
          "output_type": "execute_result",
          "data": {
            "text/plain": [
              "Net(\n",
              "  (conv1): Conv2d(1, 128, kernel_size=(2, 2), stride=(1, 1))\n",
              "  (conv2): Conv2d(128, 256, kernel_size=(2, 2), stride=(1, 1))\n",
              "  (maxPooling): MaxPool2d(kernel_size=2, stride=2, padding=0, dilation=1, ceil_mode=False)\n",
              "  (fc1): Linear(in_features=9216, out_features=512, bias=True)\n",
              "  (fc2): Linear(in_features=512, out_features=256, bias=True)\n",
              "  (fc3): Linear(in_features=256, out_features=64, bias=True)\n",
              "  (fc4): Linear(in_features=64, out_features=10, bias=True)\n",
              ")"
            ]
          },
          "metadata": {},
          "execution_count": 213
        }
      ]
    },
    {
      "cell_type": "markdown",
      "source": [
        "## 4. Train Model"
      ],
      "metadata": {
        "id": "HtfpbeNoKA-z"
      }
    },
    {
      "cell_type": "code",
      "source": [
        "train_losses = []\n",
        "train_counter = []\n",
        "test_losses = []\n",
        "test_counter = [i*len(train_loader.dataset) for i in range(n_epochs + 1)]\n",
        "\n",
        "optimizer = optim.SGD(net.parameters(), lr=learning_rate, momentum=momentum)\n",
        "criterion = nn.MSELoss()"
      ],
      "metadata": {
        "id": "U3PqYa_JKW5o"
      },
      "execution_count": null,
      "outputs": []
    },
    {
      "cell_type": "code",
      "source": [
        "def train(model, train_loader, optimizer, epoch):\n",
        "    model.train()\n",
        "    for batch_idx, (data, target) in enumerate(train_loader):\n",
        "        data = data.to(device)\n",
        "        target = target.to(device)\n",
        "        optimizer.zero_grad()\n",
        "        output = model(data)\n",
        "        loss = F.nll_loss(output, target)\n",
        "        loss.backward()\n",
        "        optimizer.step()\n",
        "        if batch_idx % log_interval == 0:\n",
        "            print('Train Epoch: {} [{}/{} ({:.0f}%)]\\tLoss: {:.6f}'.format(\n",
        "                epoch, batch_idx * len(data), len(train_loader.dataset),\n",
        "                100. * batch_idx / len(train_loader), loss.item()))\n",
        "\n",
        "\n",
        "def test(model, test_loader):\n",
        "    model.eval()\n",
        "    test_loss = 0\n",
        "    correct = 0\n",
        "    with torch.no_grad():\n",
        "        for data, target in test_loader:\n",
        "            data = data.to(device)\n",
        "            target = target.to(device)\n",
        "            output = model(data)\n",
        "            test_loss += F.nll_loss(output, target, reduction='sum').item()  # sum up batch loss\n",
        "            pred = output.argmax(dim=1, keepdim=True)  # get the index of the max log-probability\n",
        "            correct += pred.eq(target.view_as(pred)).sum().item()\n",
        "\n",
        "    test_loss /= len(test_loader.dataset)\n",
        "\n",
        "    print('\\nTest set: Average loss: {:.4f}, Accuracy: {}/{} ({:.0f}%)\\n'.format(\n",
        "        test_loss, correct, len(test_loader.dataset),\n",
        "        100. * correct / len(test_loader.dataset)))"
      ],
      "metadata": {
        "id": "SdQxhR9LKAWg"
      },
      "execution_count": null,
      "outputs": []
    },
    {
      "cell_type": "code",
      "source": [
        "for epoch in range(1, n_epochs + 1):\n",
        "  train(net, train_loader, optimizer, epoch)\n",
        "  test(net, test_loader)"
      ],
      "metadata": {
        "id": "cO6SfXSkKbIp",
        "colab": {
          "base_uri": "https://localhost:8080/"
        },
        "outputId": "f2609b80-9640-4a43-a9d1-85247c7163a5"
      },
      "execution_count": null,
      "outputs": [
        {
          "output_type": "stream",
          "name": "stdout",
          "text": [
            "Train Epoch: 1 [0/60000 (0%)]\tLoss: 2.326385\n",
            "Train Epoch: 1 [6400/60000 (11%)]\tLoss: 0.823768\n",
            "Train Epoch: 1 [12800/60000 (21%)]\tLoss: 0.672040\n",
            "Train Epoch: 1 [19200/60000 (32%)]\tLoss: 0.724265\n",
            "Train Epoch: 1 [25600/60000 (43%)]\tLoss: 0.643394\n",
            "Train Epoch: 1 [32000/60000 (53%)]\tLoss: 0.407877\n",
            "Train Epoch: 1 [38400/60000 (64%)]\tLoss: 0.627572\n",
            "Train Epoch: 1 [44800/60000 (75%)]\tLoss: 0.447640\n",
            "Train Epoch: 1 [51200/60000 (85%)]\tLoss: 0.394048\n",
            "Train Epoch: 1 [57600/60000 (96%)]\tLoss: 0.479826\n",
            "\n",
            "Test set: Average loss: 0.5574, Accuracy: 8015/10000 (80%)\n",
            "\n",
            "Train Epoch: 2 [0/60000 (0%)]\tLoss: 0.409819\n",
            "Train Epoch: 2 [6400/60000 (11%)]\tLoss: 0.384002\n",
            "Train Epoch: 2 [12800/60000 (21%)]\tLoss: 0.413823\n",
            "Train Epoch: 2 [19200/60000 (32%)]\tLoss: 0.506972\n",
            "Train Epoch: 2 [25600/60000 (43%)]\tLoss: 0.413249\n",
            "Train Epoch: 2 [32000/60000 (53%)]\tLoss: 0.438667\n",
            "Train Epoch: 2 [38400/60000 (64%)]\tLoss: 0.423068\n",
            "Train Epoch: 2 [44800/60000 (75%)]\tLoss: 0.400868\n",
            "Train Epoch: 2 [51200/60000 (85%)]\tLoss: 0.352968\n",
            "Train Epoch: 2 [57600/60000 (96%)]\tLoss: 0.331662\n",
            "\n",
            "Test set: Average loss: 0.4687, Accuracy: 8288/10000 (83%)\n",
            "\n",
            "Train Epoch: 3 [0/60000 (0%)]\tLoss: 0.560135\n",
            "Train Epoch: 3 [6400/60000 (11%)]\tLoss: 0.425735\n",
            "Train Epoch: 3 [12800/60000 (21%)]\tLoss: 0.494065\n",
            "Train Epoch: 3 [19200/60000 (32%)]\tLoss: 0.349954\n",
            "Train Epoch: 3 [25600/60000 (43%)]\tLoss: 0.375370\n",
            "Train Epoch: 3 [32000/60000 (53%)]\tLoss: 0.294463\n",
            "Train Epoch: 3 [38400/60000 (64%)]\tLoss: 0.371153\n",
            "Train Epoch: 3 [44800/60000 (75%)]\tLoss: 0.294620\n",
            "Train Epoch: 3 [51200/60000 (85%)]\tLoss: 0.329604\n",
            "Train Epoch: 3 [57600/60000 (96%)]\tLoss: 0.390135\n",
            "\n",
            "Test set: Average loss: 0.4751, Accuracy: 8280/10000 (83%)\n",
            "\n",
            "Train Epoch: 4 [0/60000 (0%)]\tLoss: 0.220134\n",
            "Train Epoch: 4 [6400/60000 (11%)]\tLoss: 0.502877\n",
            "Train Epoch: 4 [12800/60000 (21%)]\tLoss: 0.486879\n",
            "Train Epoch: 4 [19200/60000 (32%)]\tLoss: 0.707189\n",
            "Train Epoch: 4 [25600/60000 (43%)]\tLoss: 0.283023\n",
            "Train Epoch: 4 [32000/60000 (53%)]\tLoss: 0.314904\n",
            "Train Epoch: 4 [38400/60000 (64%)]\tLoss: 0.381648\n",
            "Train Epoch: 4 [44800/60000 (75%)]\tLoss: 0.333054\n",
            "Train Epoch: 4 [51200/60000 (85%)]\tLoss: 0.378657\n",
            "Train Epoch: 4 [57600/60000 (96%)]\tLoss: 0.524325\n",
            "\n",
            "Test set: Average loss: 0.3609, Accuracy: 8703/10000 (87%)\n",
            "\n",
            "Train Epoch: 5 [0/60000 (0%)]\tLoss: 0.332560\n",
            "Train Epoch: 5 [6400/60000 (11%)]\tLoss: 0.407906\n",
            "Train Epoch: 5 [12800/60000 (21%)]\tLoss: 0.279813\n",
            "Train Epoch: 5 [19200/60000 (32%)]\tLoss: 0.375131\n",
            "Train Epoch: 5 [25600/60000 (43%)]\tLoss: 0.316934\n",
            "Train Epoch: 5 [32000/60000 (53%)]\tLoss: 0.519514\n",
            "Train Epoch: 5 [38400/60000 (64%)]\tLoss: 0.434984\n",
            "Train Epoch: 5 [44800/60000 (75%)]\tLoss: 0.305526\n",
            "Train Epoch: 5 [51200/60000 (85%)]\tLoss: 0.422928\n",
            "Train Epoch: 5 [57600/60000 (96%)]\tLoss: 0.378523\n",
            "\n",
            "Test set: Average loss: 0.3861, Accuracy: 8549/10000 (85%)\n",
            "\n",
            "Train Epoch: 6 [0/60000 (0%)]\tLoss: 0.386897\n",
            "Train Epoch: 6 [6400/60000 (11%)]\tLoss: 0.293943\n",
            "Train Epoch: 6 [12800/60000 (21%)]\tLoss: 0.282985\n",
            "Train Epoch: 6 [19200/60000 (32%)]\tLoss: 0.312933\n",
            "Train Epoch: 6 [25600/60000 (43%)]\tLoss: 0.316387\n",
            "Train Epoch: 6 [32000/60000 (53%)]\tLoss: 0.258651\n",
            "Train Epoch: 6 [38400/60000 (64%)]\tLoss: 0.352750\n",
            "Train Epoch: 6 [44800/60000 (75%)]\tLoss: 0.279878\n",
            "Train Epoch: 6 [51200/60000 (85%)]\tLoss: 0.208685\n",
            "Train Epoch: 6 [57600/60000 (96%)]\tLoss: 0.296612\n",
            "\n",
            "Test set: Average loss: 0.3446, Accuracy: 8786/10000 (88%)\n",
            "\n",
            "Train Epoch: 7 [0/60000 (0%)]\tLoss: 0.270001\n",
            "Train Epoch: 7 [6400/60000 (11%)]\tLoss: 0.252445\n",
            "Train Epoch: 7 [12800/60000 (21%)]\tLoss: 0.329367\n",
            "Train Epoch: 7 [19200/60000 (32%)]\tLoss: 0.120836\n",
            "Train Epoch: 7 [25600/60000 (43%)]\tLoss: 0.221105\n",
            "Train Epoch: 7 [32000/60000 (53%)]\tLoss: 0.400385\n",
            "Train Epoch: 7 [38400/60000 (64%)]\tLoss: 0.207344\n",
            "Train Epoch: 7 [44800/60000 (75%)]\tLoss: 0.212653\n",
            "Train Epoch: 7 [51200/60000 (85%)]\tLoss: 0.319938\n",
            "Train Epoch: 7 [57600/60000 (96%)]\tLoss: 0.309817\n",
            "\n",
            "Test set: Average loss: 0.3206, Accuracy: 8863/10000 (89%)\n",
            "\n",
            "Train Epoch: 8 [0/60000 (0%)]\tLoss: 0.242253\n",
            "Train Epoch: 8 [6400/60000 (11%)]\tLoss: 0.112408\n",
            "Train Epoch: 8 [12800/60000 (21%)]\tLoss: 0.191078\n",
            "Train Epoch: 8 [19200/60000 (32%)]\tLoss: 0.263477\n",
            "Train Epoch: 8 [25600/60000 (43%)]\tLoss: 0.284264\n",
            "Train Epoch: 8 [32000/60000 (53%)]\tLoss: 0.266676\n",
            "Train Epoch: 8 [38400/60000 (64%)]\tLoss: 0.352372\n",
            "Train Epoch: 8 [44800/60000 (75%)]\tLoss: 0.475275\n",
            "Train Epoch: 8 [51200/60000 (85%)]\tLoss: 0.282916\n",
            "Train Epoch: 8 [57600/60000 (96%)]\tLoss: 0.277652\n",
            "\n",
            "Test set: Average loss: 0.3137, Accuracy: 8872/10000 (89%)\n",
            "\n",
            "Train Epoch: 9 [0/60000 (0%)]\tLoss: 0.234781\n",
            "Train Epoch: 9 [6400/60000 (11%)]\tLoss: 0.276185\n",
            "Train Epoch: 9 [12800/60000 (21%)]\tLoss: 0.312224\n",
            "Train Epoch: 9 [19200/60000 (32%)]\tLoss: 0.229307\n",
            "Train Epoch: 9 [25600/60000 (43%)]\tLoss: 0.262711\n",
            "Train Epoch: 9 [32000/60000 (53%)]\tLoss: 0.350197\n",
            "Train Epoch: 9 [38400/60000 (64%)]\tLoss: 0.216816\n",
            "Train Epoch: 9 [44800/60000 (75%)]\tLoss: 0.401015\n",
            "Train Epoch: 9 [51200/60000 (85%)]\tLoss: 0.458600\n",
            "Train Epoch: 9 [57600/60000 (96%)]\tLoss: 0.361911\n",
            "\n",
            "Test set: Average loss: 0.3152, Accuracy: 8833/10000 (88%)\n",
            "\n",
            "Train Epoch: 10 [0/60000 (0%)]\tLoss: 0.157752\n",
            "Train Epoch: 10 [6400/60000 (11%)]\tLoss: 0.235244\n",
            "Train Epoch: 10 [12800/60000 (21%)]\tLoss: 0.345153\n",
            "Train Epoch: 10 [19200/60000 (32%)]\tLoss: 0.299757\n",
            "Train Epoch: 10 [25600/60000 (43%)]\tLoss: 0.341266\n",
            "Train Epoch: 10 [32000/60000 (53%)]\tLoss: 0.158643\n",
            "Train Epoch: 10 [38400/60000 (64%)]\tLoss: 0.419611\n",
            "Train Epoch: 10 [44800/60000 (75%)]\tLoss: 0.218148\n",
            "Train Epoch: 10 [51200/60000 (85%)]\tLoss: 0.239254\n",
            "Train Epoch: 10 [57600/60000 (96%)]\tLoss: 0.279501\n",
            "\n",
            "Test set: Average loss: 0.3250, Accuracy: 8827/10000 (88%)\n",
            "\n",
            "Train Epoch: 11 [0/60000 (0%)]\tLoss: 0.199494\n",
            "Train Epoch: 11 [6400/60000 (11%)]\tLoss: 0.438043\n",
            "Train Epoch: 11 [12800/60000 (21%)]\tLoss: 0.263094\n",
            "Train Epoch: 11 [19200/60000 (32%)]\tLoss: 0.183198\n",
            "Train Epoch: 11 [25600/60000 (43%)]\tLoss: 0.334926\n",
            "Train Epoch: 11 [32000/60000 (53%)]\tLoss: 0.411947\n",
            "Train Epoch: 11 [38400/60000 (64%)]\tLoss: 0.385168\n",
            "Train Epoch: 11 [44800/60000 (75%)]\tLoss: 0.368902\n",
            "Train Epoch: 11 [51200/60000 (85%)]\tLoss: 0.214847\n",
            "Train Epoch: 11 [57600/60000 (96%)]\tLoss: 0.248486\n",
            "\n",
            "Test set: Average loss: 0.3131, Accuracy: 8871/10000 (89%)\n",
            "\n",
            "Train Epoch: 12 [0/60000 (0%)]\tLoss: 0.451785\n",
            "Train Epoch: 12 [6400/60000 (11%)]\tLoss: 0.279613\n",
            "Train Epoch: 12 [12800/60000 (21%)]\tLoss: 0.144222\n",
            "Train Epoch: 12 [19200/60000 (32%)]\tLoss: 0.117984\n",
            "Train Epoch: 12 [25600/60000 (43%)]\tLoss: 0.309114\n",
            "Train Epoch: 12 [32000/60000 (53%)]\tLoss: 0.265626\n",
            "Train Epoch: 12 [38400/60000 (64%)]\tLoss: 0.160550\n",
            "Train Epoch: 12 [44800/60000 (75%)]\tLoss: 0.271044\n",
            "Train Epoch: 12 [51200/60000 (85%)]\tLoss: 0.262976\n",
            "Train Epoch: 12 [57600/60000 (96%)]\tLoss: 0.146058\n",
            "\n",
            "Test set: Average loss: 0.2861, Accuracy: 8980/10000 (90%)\n",
            "\n",
            "Train Epoch: 13 [0/60000 (0%)]\tLoss: 0.325884\n",
            "Train Epoch: 13 [6400/60000 (11%)]\tLoss: 0.465391\n",
            "Train Epoch: 13 [12800/60000 (21%)]\tLoss: 0.386875\n",
            "Train Epoch: 13 [19200/60000 (32%)]\tLoss: 0.237617\n",
            "Train Epoch: 13 [25600/60000 (43%)]\tLoss: 0.395970\n",
            "Train Epoch: 13 [32000/60000 (53%)]\tLoss: 0.240477\n",
            "Train Epoch: 13 [38400/60000 (64%)]\tLoss: 0.284131\n",
            "Train Epoch: 13 [44800/60000 (75%)]\tLoss: 0.366567\n",
            "Train Epoch: 13 [51200/60000 (85%)]\tLoss: 0.128638\n",
            "Train Epoch: 13 [57600/60000 (96%)]\tLoss: 0.281156\n",
            "\n",
            "Test set: Average loss: 0.2979, Accuracy: 8924/10000 (89%)\n",
            "\n",
            "Train Epoch: 14 [0/60000 (0%)]\tLoss: 0.266671\n",
            "Train Epoch: 14 [6400/60000 (11%)]\tLoss: 0.219386\n",
            "Train Epoch: 14 [12800/60000 (21%)]\tLoss: 0.232871\n",
            "Train Epoch: 14 [19200/60000 (32%)]\tLoss: 0.130136\n",
            "Train Epoch: 14 [25600/60000 (43%)]\tLoss: 0.158184\n",
            "Train Epoch: 14 [32000/60000 (53%)]\tLoss: 0.267908\n",
            "Train Epoch: 14 [38400/60000 (64%)]\tLoss: 0.363843\n",
            "Train Epoch: 14 [44800/60000 (75%)]\tLoss: 0.202962\n",
            "Train Epoch: 14 [51200/60000 (85%)]\tLoss: 0.256717\n",
            "Train Epoch: 14 [57600/60000 (96%)]\tLoss: 0.267620\n",
            "\n",
            "Test set: Average loss: 0.3210, Accuracy: 8862/10000 (89%)\n",
            "\n",
            "Train Epoch: 15 [0/60000 (0%)]\tLoss: 0.237684\n",
            "Train Epoch: 15 [6400/60000 (11%)]\tLoss: 0.145545\n",
            "Train Epoch: 15 [12800/60000 (21%)]\tLoss: 0.343741\n",
            "Train Epoch: 15 [19200/60000 (32%)]\tLoss: 0.212678\n",
            "Train Epoch: 15 [25600/60000 (43%)]\tLoss: 0.189952\n",
            "Train Epoch: 15 [32000/60000 (53%)]\tLoss: 0.127493\n",
            "Train Epoch: 15 [38400/60000 (64%)]\tLoss: 0.102181\n",
            "Train Epoch: 15 [44800/60000 (75%)]\tLoss: 0.121007\n",
            "Train Epoch: 15 [51200/60000 (85%)]\tLoss: 0.238265\n",
            "Train Epoch: 15 [57600/60000 (96%)]\tLoss: 0.230862\n",
            "\n",
            "Test set: Average loss: 0.2844, Accuracy: 9004/10000 (90%)\n",
            "\n",
            "Train Epoch: 16 [0/60000 (0%)]\tLoss: 0.196004\n",
            "Train Epoch: 16 [6400/60000 (11%)]\tLoss: 0.275408\n",
            "Train Epoch: 16 [12800/60000 (21%)]\tLoss: 0.263412\n",
            "Train Epoch: 16 [19200/60000 (32%)]\tLoss: 0.138870\n",
            "Train Epoch: 16 [25600/60000 (43%)]\tLoss: 0.103129\n",
            "Train Epoch: 16 [32000/60000 (53%)]\tLoss: 0.370410\n",
            "Train Epoch: 16 [38400/60000 (64%)]\tLoss: 0.209378\n",
            "Train Epoch: 16 [44800/60000 (75%)]\tLoss: 0.243428\n",
            "Train Epoch: 16 [51200/60000 (85%)]\tLoss: 0.150625\n",
            "Train Epoch: 16 [57600/60000 (96%)]\tLoss: 0.089806\n",
            "\n",
            "Test set: Average loss: 0.2872, Accuracy: 8971/10000 (90%)\n",
            "\n",
            "Train Epoch: 17 [0/60000 (0%)]\tLoss: 0.227907\n",
            "Train Epoch: 17 [6400/60000 (11%)]\tLoss: 0.173390\n",
            "Train Epoch: 17 [12800/60000 (21%)]\tLoss: 0.152976\n",
            "Train Epoch: 17 [19200/60000 (32%)]\tLoss: 0.125215\n",
            "Train Epoch: 17 [25600/60000 (43%)]\tLoss: 0.144296\n",
            "Train Epoch: 17 [32000/60000 (53%)]\tLoss: 0.153722\n",
            "Train Epoch: 17 [38400/60000 (64%)]\tLoss: 0.271754\n",
            "Train Epoch: 17 [44800/60000 (75%)]\tLoss: 0.169100\n",
            "Train Epoch: 17 [51200/60000 (85%)]\tLoss: 0.159665\n",
            "Train Epoch: 17 [57600/60000 (96%)]\tLoss: 0.635388\n",
            "\n",
            "Test set: Average loss: 0.2987, Accuracy: 8923/10000 (89%)\n",
            "\n",
            "Train Epoch: 18 [0/60000 (0%)]\tLoss: 0.211356\n",
            "Train Epoch: 18 [6400/60000 (11%)]\tLoss: 0.306306\n",
            "Train Epoch: 18 [12800/60000 (21%)]\tLoss: 0.179918\n",
            "Train Epoch: 18 [19200/60000 (32%)]\tLoss: 0.115768\n",
            "Train Epoch: 18 [25600/60000 (43%)]\tLoss: 0.325051\n",
            "Train Epoch: 18 [32000/60000 (53%)]\tLoss: 0.125391\n",
            "Train Epoch: 18 [38400/60000 (64%)]\tLoss: 0.124628\n",
            "Train Epoch: 18 [44800/60000 (75%)]\tLoss: 0.283157\n",
            "Train Epoch: 18 [51200/60000 (85%)]\tLoss: 0.171294\n",
            "Train Epoch: 18 [57600/60000 (96%)]\tLoss: 0.194447\n",
            "\n",
            "Test set: Average loss: 0.2994, Accuracy: 8959/10000 (90%)\n",
            "\n",
            "Train Epoch: 19 [0/60000 (0%)]\tLoss: 0.130886\n",
            "Train Epoch: 19 [6400/60000 (11%)]\tLoss: 0.246169\n",
            "Train Epoch: 19 [12800/60000 (21%)]\tLoss: 0.182606\n",
            "Train Epoch: 19 [19200/60000 (32%)]\tLoss: 0.191334\n",
            "Train Epoch: 19 [25600/60000 (43%)]\tLoss: 0.477949\n",
            "Train Epoch: 19 [32000/60000 (53%)]\tLoss: 0.184079\n",
            "Train Epoch: 19 [38400/60000 (64%)]\tLoss: 0.099410\n",
            "Train Epoch: 19 [44800/60000 (75%)]\tLoss: 0.146786\n",
            "Train Epoch: 19 [51200/60000 (85%)]\tLoss: 0.236646\n",
            "Train Epoch: 19 [57600/60000 (96%)]\tLoss: 0.178502\n",
            "\n",
            "Test set: Average loss: 0.3016, Accuracy: 8921/10000 (89%)\n",
            "\n",
            "Train Epoch: 20 [0/60000 (0%)]\tLoss: 0.429443\n",
            "Train Epoch: 20 [6400/60000 (11%)]\tLoss: 0.260299\n",
            "Train Epoch: 20 [12800/60000 (21%)]\tLoss: 0.148679\n",
            "Train Epoch: 20 [19200/60000 (32%)]\tLoss: 0.208292\n",
            "Train Epoch: 20 [25600/60000 (43%)]\tLoss: 0.176655\n",
            "Train Epoch: 20 [32000/60000 (53%)]\tLoss: 0.078610\n",
            "Train Epoch: 20 [38400/60000 (64%)]\tLoss: 0.133292\n",
            "Train Epoch: 20 [44800/60000 (75%)]\tLoss: 0.104636\n",
            "Train Epoch: 20 [51200/60000 (85%)]\tLoss: 0.171853\n",
            "Train Epoch: 20 [57600/60000 (96%)]\tLoss: 0.163974\n",
            "\n",
            "Test set: Average loss: 0.2904, Accuracy: 9029/10000 (90%)\n",
            "\n"
          ]
        }
      ]
    },
    {
      "cell_type": "markdown",
      "source": [
        "# Tensorflow"
      ],
      "metadata": {
        "id": "4XcY-TlhGxru"
      }
    },
    {
      "cell_type": "markdown",
      "source": [
        "## 0. Imports"
      ],
      "metadata": {
        "id": "KyU1ThEPG0Mx"
      }
    },
    {
      "cell_type": "code",
      "source": [
        "import tensorflow as tf\n",
        "import tensorflow_datasets as tfds"
      ],
      "metadata": {
        "id": "0F1QY_IOG2e1"
      },
      "execution_count": null,
      "outputs": []
    },
    {
      "cell_type": "markdown",
      "source": [
        "## 1. Set Hyperparameters"
      ],
      "metadata": {
        "id": "qJe1xk4QHEvp"
      }
    },
    {
      "cell_type": "code",
      "source": [
        "# Tune these\n",
        "\n",
        "n_epochs = 3\n",
        "batch_size_train = 64\n",
        "batch_size_test = 1000\n",
        "learning_rate = 0.01"
      ],
      "metadata": {
        "id": "tsXzcHqDHTku"
      },
      "execution_count": null,
      "outputs": []
    },
    {
      "cell_type": "markdown",
      "source": [
        "## 2. Import Data"
      ],
      "metadata": {
        "id": "n13sUlF_HJ1v"
      }
    },
    {
      "cell_type": "code",
      "source": [
        "(ds_train, ds_test), ds_info = tfds.load(\n",
        "    'fashion_mnist',\n",
        "    split=['train', 'test'],\n",
        "    shuffle_files=True,\n",
        "    as_supervised=True,\n",
        "    with_info=True,\n",
        ")\n",
        "\n",
        "def normalize_img(image, label):\n",
        "  \"\"\"Normalizes images: `uint8` -> `float32`.\"\"\"\n",
        "  return tf.cast(image, tf.float32) / 255., label\n",
        "\n",
        "ds_train = ds_train.map(\n",
        "    normalize_img, num_parallel_calls=tf.data.AUTOTUNE)\n",
        "ds_train = ds_train.cache()\n",
        "ds_train = ds_train.shuffle(ds_info.splits['train'].num_examples)\n",
        "ds_train = ds_train.batch(batch_size_train)\n",
        "ds_train = ds_train.prefetch(tf.data.AUTOTUNE)\n",
        "\n",
        "ds_test = ds_test.map(\n",
        "    normalize_img, num_parallel_calls=tf.data.AUTOTUNE)\n",
        "ds_test = ds_test.batch(batch_size_test)\n",
        "ds_test = ds_test.cache()\n",
        "ds_test = ds_test.prefetch(tf.data.AUTOTUNE)"
      ],
      "metadata": {
        "id": "W4uIM9TaHWUH"
      },
      "execution_count": null,
      "outputs": []
    },
    {
      "cell_type": "markdown",
      "source": [
        "## 3. Define Model"
      ],
      "metadata": {
        "id": "DgEqnLBsR3W6"
      }
    },
    {
      "cell_type": "code",
      "source": [
        "model = tf.keras.models.Sequential([\n",
        "  ## Your architecture goes here\n",
        "])\n",
        "\n",
        "model.compile(\n",
        "    optimizer=tf.keras.optimizers.Adam(learning_rate),\n",
        "    loss=tf.keras.losses.SparseCategoricalCrossentropy(from_logits=True),\n",
        "    metrics=[tf.keras.metrics.SparseCategoricalAccuracy()],\n",
        ")"
      ],
      "metadata": {
        "id": "v4wX6lQOHjeK"
      },
      "execution_count": null,
      "outputs": []
    },
    {
      "cell_type": "markdown",
      "source": [
        "## 4. Train Model"
      ],
      "metadata": {
        "id": "f5VZLjUSHNl6"
      }
    },
    {
      "cell_type": "code",
      "source": [
        "model.fit(\n",
        "    ds_train,\n",
        "    epochs=n_epochs,\n",
        "    validation_data=ds_test,\n",
        ")"
      ],
      "metadata": {
        "id": "GQp_7VQtHwXi",
        "colab": {
          "base_uri": "https://localhost:8080/",
          "height": 1000
        },
        "outputId": "f13966f6-1112-4bef-ef3f-8f9906f52e42"
      },
      "execution_count": null,
      "outputs": [
        {
          "output_type": "stream",
          "name": "stdout",
          "text": [
            "Epoch 1/3\n"
          ]
        },
        {
          "output_type": "error",
          "ename": "InvalidArgumentError",
          "evalue": "ignored",
          "traceback": [
            "\u001b[0;31m---------------------------------------------------------------------------\u001b[0m",
            "\u001b[0;31mInvalidArgumentError\u001b[0m                      Traceback (most recent call last)",
            "\u001b[0;32m<ipython-input-221-deb9191fa411>\u001b[0m in \u001b[0;36m<module>\u001b[0;34m\u001b[0m\n\u001b[1;32m      2\u001b[0m     \u001b[0mds_train\u001b[0m\u001b[0;34m,\u001b[0m\u001b[0;34m\u001b[0m\u001b[0;34m\u001b[0m\u001b[0m\n\u001b[1;32m      3\u001b[0m     \u001b[0mepochs\u001b[0m\u001b[0;34m=\u001b[0m\u001b[0mn_epochs\u001b[0m\u001b[0;34m,\u001b[0m\u001b[0;34m\u001b[0m\u001b[0;34m\u001b[0m\u001b[0m\n\u001b[0;32m----> 4\u001b[0;31m     \u001b[0mvalidation_data\u001b[0m\u001b[0;34m=\u001b[0m\u001b[0mds_test\u001b[0m\u001b[0;34m,\u001b[0m\u001b[0;34m\u001b[0m\u001b[0;34m\u001b[0m\u001b[0m\n\u001b[0m\u001b[1;32m      5\u001b[0m )\n",
            "\u001b[0;32m/usr/local/lib/python3.7/dist-packages/keras/utils/traceback_utils.py\u001b[0m in \u001b[0;36merror_handler\u001b[0;34m(*args, **kwargs)\u001b[0m\n\u001b[1;32m     65\u001b[0m     \u001b[0;32mexcept\u001b[0m \u001b[0mException\u001b[0m \u001b[0;32mas\u001b[0m \u001b[0me\u001b[0m\u001b[0;34m:\u001b[0m  \u001b[0;31m# pylint: disable=broad-except\u001b[0m\u001b[0;34m\u001b[0m\u001b[0;34m\u001b[0m\u001b[0m\n\u001b[1;32m     66\u001b[0m       \u001b[0mfiltered_tb\u001b[0m \u001b[0;34m=\u001b[0m \u001b[0m_process_traceback_frames\u001b[0m\u001b[0;34m(\u001b[0m\u001b[0me\u001b[0m\u001b[0;34m.\u001b[0m\u001b[0m__traceback__\u001b[0m\u001b[0;34m)\u001b[0m\u001b[0;34m\u001b[0m\u001b[0;34m\u001b[0m\u001b[0m\n\u001b[0;32m---> 67\u001b[0;31m       \u001b[0;32mraise\u001b[0m \u001b[0me\u001b[0m\u001b[0;34m.\u001b[0m\u001b[0mwith_traceback\u001b[0m\u001b[0;34m(\u001b[0m\u001b[0mfiltered_tb\u001b[0m\u001b[0;34m)\u001b[0m \u001b[0;32mfrom\u001b[0m \u001b[0;32mNone\u001b[0m\u001b[0;34m\u001b[0m\u001b[0;34m\u001b[0m\u001b[0m\n\u001b[0m\u001b[1;32m     68\u001b[0m     \u001b[0;32mfinally\u001b[0m\u001b[0;34m:\u001b[0m\u001b[0;34m\u001b[0m\u001b[0;34m\u001b[0m\u001b[0m\n\u001b[1;32m     69\u001b[0m       \u001b[0;32mdel\u001b[0m \u001b[0mfiltered_tb\u001b[0m\u001b[0;34m\u001b[0m\u001b[0;34m\u001b[0m\u001b[0m\n",
            "\u001b[0;32m/usr/local/lib/python3.7/dist-packages/tensorflow/python/eager/execute.py\u001b[0m in \u001b[0;36mquick_execute\u001b[0;34m(op_name, num_outputs, inputs, attrs, ctx, name)\u001b[0m\n\u001b[1;32m     53\u001b[0m     \u001b[0mctx\u001b[0m\u001b[0;34m.\u001b[0m\u001b[0mensure_initialized\u001b[0m\u001b[0;34m(\u001b[0m\u001b[0;34m)\u001b[0m\u001b[0;34m\u001b[0m\u001b[0;34m\u001b[0m\u001b[0m\n\u001b[1;32m     54\u001b[0m     tensors = pywrap_tfe.TFE_Py_Execute(ctx._handle, device_name, op_name,\n\u001b[0;32m---> 55\u001b[0;31m                                         inputs, attrs, num_outputs)\n\u001b[0m\u001b[1;32m     56\u001b[0m   \u001b[0;32mexcept\u001b[0m \u001b[0mcore\u001b[0m\u001b[0;34m.\u001b[0m\u001b[0m_NotOkStatusException\u001b[0m \u001b[0;32mas\u001b[0m \u001b[0me\u001b[0m\u001b[0;34m:\u001b[0m\u001b[0;34m\u001b[0m\u001b[0;34m\u001b[0m\u001b[0m\n\u001b[1;32m     57\u001b[0m     \u001b[0;32mif\u001b[0m \u001b[0mname\u001b[0m \u001b[0;32mis\u001b[0m \u001b[0;32mnot\u001b[0m \u001b[0;32mNone\u001b[0m\u001b[0;34m:\u001b[0m\u001b[0;34m\u001b[0m\u001b[0;34m\u001b[0m\u001b[0m\n",
            "\u001b[0;31mInvalidArgumentError\u001b[0m: Graph execution error:\n\nDetected at node 'Equal' defined at (most recent call last):\n    File \"/usr/lib/python3.7/runpy.py\", line 193, in _run_module_as_main\n      \"__main__\", mod_spec)\n    File \"/usr/lib/python3.7/runpy.py\", line 85, in _run_code\n      exec(code, run_globals)\n    File \"/usr/local/lib/python3.7/dist-packages/ipykernel_launcher.py\", line 16, in <module>\n      app.launch_new_instance()\n    File \"/usr/local/lib/python3.7/dist-packages/traitlets/config/application.py\", line 846, in launch_instance\n      app.start()\n    File \"/usr/local/lib/python3.7/dist-packages/ipykernel/kernelapp.py\", line 612, in start\n      self.io_loop.start()\n    File \"/usr/local/lib/python3.7/dist-packages/tornado/platform/asyncio.py\", line 132, in start\n      self.asyncio_loop.run_forever()\n    File \"/usr/lib/python3.7/asyncio/base_events.py\", line 541, in run_forever\n      self._run_once()\n    File \"/usr/lib/python3.7/asyncio/base_events.py\", line 1786, in _run_once\n      handle._run()\n    File \"/usr/lib/python3.7/asyncio/events.py\", line 88, in _run\n      self._context.run(self._callback, *self._args)\n    File \"/usr/local/lib/python3.7/dist-packages/tornado/ioloop.py\", line 758, in _run_callback\n      ret = callback()\n    File \"/usr/local/lib/python3.7/dist-packages/tornado/stack_context.py\", line 300, in null_wrapper\n      return fn(*args, **kwargs)\n    File \"/usr/local/lib/python3.7/dist-packages/tornado/gen.py\", line 1233, in inner\n      self.run()\n    File \"/usr/local/lib/python3.7/dist-packages/tornado/gen.py\", line 1147, in run\n      yielded = self.gen.send(value)\n    File \"/usr/local/lib/python3.7/dist-packages/ipykernel/kernelbase.py\", line 381, in dispatch_queue\n      yield self.process_one()\n    File \"/usr/local/lib/python3.7/dist-packages/tornado/gen.py\", line 346, in wrapper\n      runner = Runner(result, future, yielded)\n    File \"/usr/local/lib/python3.7/dist-packages/tornado/gen.py\", line 1080, in __init__\n      self.run()\n    File \"/usr/local/lib/python3.7/dist-packages/tornado/gen.py\", line 1147, in run\n      yielded = self.gen.send(value)\n    File \"/usr/local/lib/python3.7/dist-packages/ipykernel/kernelbase.py\", line 365, in process_one\n      yield gen.maybe_future(dispatch(*args))\n    File \"/usr/local/lib/python3.7/dist-packages/tornado/gen.py\", line 326, in wrapper\n      yielded = next(result)\n    File \"/usr/local/lib/python3.7/dist-packages/ipykernel/kernelbase.py\", line 268, in dispatch_shell\n      yield gen.maybe_future(handler(stream, idents, msg))\n    File \"/usr/local/lib/python3.7/dist-packages/tornado/gen.py\", line 326, in wrapper\n      yielded = next(result)\n    File \"/usr/local/lib/python3.7/dist-packages/ipykernel/kernelbase.py\", line 545, in execute_request\n      user_expressions, allow_stdin,\n    File \"/usr/local/lib/python3.7/dist-packages/tornado/gen.py\", line 326, in wrapper\n      yielded = next(result)\n    File \"/usr/local/lib/python3.7/dist-packages/ipykernel/ipkernel.py\", line 306, in do_execute\n      res = shell.run_cell(code, store_history=store_history, silent=silent)\n    File \"/usr/local/lib/python3.7/dist-packages/ipykernel/zmqshell.py\", line 536, in run_cell\n      return super(ZMQInteractiveShell, self).run_cell(*args, **kwargs)\n    File \"/usr/local/lib/python3.7/dist-packages/IPython/core/interactiveshell.py\", line 2855, in run_cell\n      raw_cell, store_history, silent, shell_futures)\n    File \"/usr/local/lib/python3.7/dist-packages/IPython/core/interactiveshell.py\", line 2881, in _run_cell\n      return runner(coro)\n    File \"/usr/local/lib/python3.7/dist-packages/IPython/core/async_helpers.py\", line 68, in _pseudo_sync_runner\n      coro.send(None)\n    File \"/usr/local/lib/python3.7/dist-packages/IPython/core/interactiveshell.py\", line 3058, in run_cell_async\n      interactivity=interactivity, compiler=compiler, result=result)\n    File \"/usr/local/lib/python3.7/dist-packages/IPython/core/interactiveshell.py\", line 3249, in run_ast_nodes\n      if (await self.run_code(code, result,  async_=asy)):\n    File \"/usr/local/lib/python3.7/dist-packages/IPython/core/interactiveshell.py\", line 3326, in run_code\n      exec(code_obj, self.user_global_ns, self.user_ns)\n    File \"<ipython-input-221-deb9191fa411>\", line 4, in <module>\n      validation_data=ds_test,\n    File \"/usr/local/lib/python3.7/dist-packages/keras/utils/traceback_utils.py\", line 64, in error_handler\n      return fn(*args, **kwargs)\n    File \"/usr/local/lib/python3.7/dist-packages/keras/engine/training.py\", line 1384, in fit\n      tmp_logs = self.train_function(iterator)\n    File \"/usr/local/lib/python3.7/dist-packages/keras/engine/training.py\", line 1021, in train_function\n      return step_function(self, iterator)\n    File \"/usr/local/lib/python3.7/dist-packages/keras/engine/training.py\", line 1010, in step_function\n      outputs = model.distribute_strategy.run(run_step, args=(data,))\n    File \"/usr/local/lib/python3.7/dist-packages/keras/engine/training.py\", line 1000, in run_step\n      outputs = model.train_step(data)\n    File \"/usr/local/lib/python3.7/dist-packages/keras/engine/training.py\", line 864, in train_step\n      return self.compute_metrics(x, y, y_pred, sample_weight)\n    File \"/usr/local/lib/python3.7/dist-packages/keras/engine/training.py\", line 957, in compute_metrics\n      self.compiled_metrics.update_state(y, y_pred, sample_weight)\n    File \"/usr/local/lib/python3.7/dist-packages/keras/engine/compile_utils.py\", line 459, in update_state\n      metric_obj.update_state(y_t, y_p, sample_weight=mask)\n    File \"/usr/local/lib/python3.7/dist-packages/keras/utils/metrics_utils.py\", line 70, in decorated\n      update_op = update_state_fn(*args, **kwargs)\n    File \"/usr/local/lib/python3.7/dist-packages/keras/metrics.py\", line 178, in update_state_fn\n      return ag_update_state(*args, **kwargs)\n    File \"/usr/local/lib/python3.7/dist-packages/keras/metrics.py\", line 729, in update_state\n      matches = ag_fn(y_true, y_pred, **self._fn_kwargs)\n    File \"/usr/local/lib/python3.7/dist-packages/keras/metrics.py\", line 4086, in sparse_categorical_accuracy\n      return tf.cast(tf.equal(y_true, y_pred), backend.floatx())\nNode: 'Equal'\nrequired broadcastable shapes\n\t [[{{node Equal}}]] [Op:__inference_train_function_142080]"
          ]
        }
      ]
    }
  ]
}